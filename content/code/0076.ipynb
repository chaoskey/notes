{
 "cells": [
  {
   "cell_type": "markdown",
   "metadata": {},
   "source": [
    "$g_{\\mu\\upsilon}=\\mathrm{det}(-1,1,1,1)\\\\ g^{\\mu\\upsilon}=\\mathrm{det}(-1,1,1,1)$"
   ]
  },
  {
   "cell_type": "code",
   "execution_count": 50,
   "metadata": {},
   "outputs": [],
   "source": [
    "using SymPy\n",
    "using LinearAlgebra\n",
    "\n",
    "δ = sympy.eye(4); \n",
    "\n",
    "g = sympy.eye(4) .* [-1,1, 1, 1]; \n",
    "gi = inv(g);"
   ]
  },
  {
   "cell_type": "markdown",
   "metadata": {},
   "source": [
    "$\\epsilon_{\\Sigma\\Omega}=\\epsilon^{\\Sigma\\Omega}=\\begin{pmatrix} 0 & 1 \\\\  -1& 0 \\end{pmatrix}\\\\ \\bar{\\epsilon}_{\\Sigma'\\Omega'}=\\bar{\\epsilon}^{\\Sigma'\\Omega'}=\\begin{pmatrix} 0 & -1 \\\\  1 & 0 \\end{pmatrix}$"
   ]
  },
  {
   "cell_type": "code",
   "execution_count": 51,
   "metadata": {},
   "outputs": [
    {
     "data": {
      "text/latex": [
       "\\[\\left[ \\begin{array}{rr}0&-1\\\\1&0\\end{array}\\right]\\]"
      ],
      "text/plain": [
       "2×2 Array{Sym,2}:\n",
       " 0  -1\n",
       " 1   0"
      ]
     },
     "execution_count": 51,
     "metadata": {},
     "output_type": "execute_result"
    }
   ],
   "source": [
    "ϵ = sympy.Matrix([0 1; -1 0]);\n",
    "ϵ1 =sympy.Matrix([0 -1; 1 0])"
   ]
  },
  {
   "cell_type": "markdown",
   "metadata": {},
   "source": [
    "$\\epsilon_{AB}=\\epsilon^{CD}\\epsilon_{CA}\\epsilon_{DB}$"
   ]
  },
  {
   "cell_type": "code",
   "execution_count": 52,
   "metadata": {},
   "outputs": [
    {
     "data": {
      "text/latex": [
       "\\[\\left[ \\begin{array}{rr}0&0\\\\0&0\\end{array}\\right]\\]"
      ],
      "text/plain": [
       "2×2 Array{Sym,2}:\n",
       " 0  0\n",
       " 0  0"
      ]
     },
     "execution_count": 52,
     "metadata": {},
     "output_type": "execute_result"
    }
   ],
   "source": [
    "[ϵ[A,B]-sum(sum(ϵ[C,D]ϵ[C,A]ϵ[D,B] for C in 1:2) for D in 1:2) for A in 1:2, B in 1:2]"
   ]
  },
  {
   "cell_type": "markdown",
   "metadata": {},
   "source": [
    "$\\epsilon^{AB}\\epsilon_{BC}=-\\delta^A_C$ \n",
    "\n",
    "可以验证$\\epsilon^A_{\\ \\ C}=\\epsilon^{AB}\\epsilon_{BC}$作用与任意旋量反向"
   ]
  },
  {
   "cell_type": "code",
   "execution_count": 53,
   "metadata": {},
   "outputs": [
    {
     "data": {
      "text/latex": [
       "\\[\\left[ \\begin{array}{rr}0&0\\\\0&0\\end{array}\\right]\\]"
      ],
      "text/plain": [
       "2×2 Array{Sym,2}:\n",
       " 0  0\n",
       " 0  0"
      ]
     },
     "execution_count": 53,
     "metadata": {},
     "output_type": "execute_result"
    }
   ],
   "source": [
    "[sum(ϵ[A,B]*ϵ[B,C] for B in 1:2)+δ[A,C] for A in 1:2, C in 1:2]"
   ]
  },
  {
   "cell_type": "markdown",
   "metadata": {},
   "source": [
    "$\\bar{\\epsilon}^{A'B'}\\bar{\\epsilon}_{B'C'}=-\\delta^A_C$\n",
    "\n",
    "同样可验证"
   ]
  },
  {
   "cell_type": "code",
   "execution_count": 54,
   "metadata": {},
   "outputs": [
    {
     "data": {
      "text/latex": [
       "\\[\\left[ \\begin{array}{rr}0&0\\\\0&0\\end{array}\\right]\\]"
      ],
      "text/plain": [
       "2×2 Array{Sym,2}:\n",
       " 0  0\n",
       " 0  0"
      ]
     },
     "execution_count": 54,
     "metadata": {},
     "output_type": "execute_result"
    }
   ],
   "source": [
    "[sum(ϵ1[A1,B1]*ϵ1[B1,C1] for B1 in 1:2)+δ[A1,C1] for A1 in 1:2, C1 in 1:2]"
   ]
  },
  {
   "cell_type": "markdown",
   "metadata": {},
   "source": [
    "$\\bar{\\epsilon}_{A'B'}=\\bar{\\epsilon}^{C'D'}\\bar{\\epsilon}_{C'A'}\\bar{\\epsilon}_{D'B'}$"
   ]
  },
  {
   "cell_type": "code",
   "execution_count": 55,
   "metadata": {},
   "outputs": [
    {
     "data": {
      "text/latex": [
       "\\[\\left[ \\begin{array}{rr}0&0\\\\0&0\\end{array}\\right]\\]"
      ],
      "text/plain": [
       "2×2 Array{Sym,2}:\n",
       " 0  0\n",
       " 0  0"
      ]
     },
     "execution_count": 55,
     "metadata": {},
     "output_type": "execute_result"
    }
   ],
   "source": [
    "[ϵ1[A1,B1]-sum(sum(ϵ1[C1,D1]ϵ1[C1,A1]ϵ1[D1,B1] for C1 in 1:2) for D1 in 1:2) for A1 in 1:2, B1 in 1:2]"
   ]
  },
  {
   "cell_type": "code",
   "execution_count": 56,
   "metadata": {},
   "outputs": [],
   "source": [
    "σ_0 = sympy.Matrix([1 0;0 1])*sqrt(1//2);\n",
    "σ_1 = sympy.Matrix([0 1;1 0])*sqrt(1//2);\n",
    "σ_2 = sympy.Matrix([0 -IM;IM 0])*sqrt(1//2);\n",
    "σ_3 = sympy.Matrix([1 0;0 -1])*sqrt(1//2);\n",
    "σ=[σ_0,σ_1,σ_2,σ_3];\n",
    "σ=[σ[i][j,k] for i in 1:4,j in 1:2 ,k in 1:2];"
   ]
  },
  {
   "cell_type": "code",
   "execution_count": 57,
   "metadata": {},
   "outputs": [
    {
     "data": {
      "text/latex": [
       "\\[\\left[ \\begin{array}{rr}0&- 0.707106781186548 i\\\\0.707106781186548 i&0\\end{array}\\right]\\]"
      ],
      "text/plain": [
       "2×2 Array{Sym,2}:\n",
       "                   0  -0.707106781186548*I\n",
       " 0.707106781186548*I                     0"
      ]
     },
     "execution_count": 57,
     "metadata": {},
     "output_type": "execute_result"
    }
   ],
   "source": [
    "σ[3,:,:]"
   ]
  },
  {
   "cell_type": "markdown",
   "metadata": {},
   "source": [
    "$g^{\\mu\\upsilon}\\sigma_\\mu^{\\ \\ AA'}\\sigma_\\upsilon^{BB'}-\\epsilon^{AB}\\epsilon^{\\ \\ A'B'}=0$\n",
    "\n",
    "这个直接验证很麻烦"
   ]
  },
  {
   "cell_type": "code",
   "execution_count": 58,
   "metadata": {},
   "outputs": [
    {
     "data": {
      "text/plain": [
       "2×2×2×2 Array{Sym,4}:\n",
       "[:, :, 1, 1] =\n",
       " 0  0\n",
       " 0  0\n",
       "\n",
       "[:, :, 2, 1] =\n",
       "                     0  2.22044604925031e-16\n",
       " -2.22044604925031e-16                     0\n",
       "\n",
       "[:, :, 1, 2] =\n",
       "                    0  -2.22044604925031e-16\n",
       " 2.22044604925031e-16                      0\n",
       "\n",
       "[:, :, 2, 2] =\n",
       " 0  0\n",
       " 0  0"
      ]
     },
     "execution_count": 58,
     "metadata": {},
     "output_type": "execute_result"
    }
   ],
   "source": [
    "[sum(sum(gi[μ,υ]*σ[μ,A,A1]*σ[υ,B,B1] for μ in 1:4) for υ in 1:4)-ϵ[A,B]*ϵ1[A1,B1]\n",
    "        for A in 1:2, B in 1:2, A1 in 1:2, B1 in 1:2]"
   ]
  },
  {
   "cell_type": "markdown",
   "metadata": {},
   "source": [
    "$\\sigma^\\mu_{\\ \\ AA'}=g^{\\mu\\upsilon}\\sigma_\\upsilon^{\\ \\ BB'}\\epsilon_{BA}\\bar{\\epsilon}_{B'A'}$"
   ]
  },
  {
   "cell_type": "code",
   "execution_count": 59,
   "metadata": {},
   "outputs": [],
   "source": [
    "σi=[sum(sum(sum(gi[μ,υ]*σ[υ,B,B1]*ϵ[B,A]*ϵ1[B1,A1] for υ in 1:4) for B in 1:2) for B1 in 1:2) \n",
    "    for μ in 1:4, A in 1:2 , A1 in 1:2];"
   ]
  },
  {
   "cell_type": "code",
   "execution_count": 70,
   "metadata": {},
   "outputs": [
    {
     "data": {
      "text/latex": [
       "\\[\\left[ \\begin{array}{rr}0.707106781186548&0\\\\0&-0.707106781186548\\end{array}\\right]\\]"
      ],
      "text/plain": [
       "2×2 Array{Sym,2}:\n",
       " 0.707106781186548                   0\n",
       "                 0  -0.707106781186548"
      ]
     },
     "execution_count": 70,
     "metadata": {},
     "output_type": "execute_result"
    }
   ],
   "source": [
    "# 【对不上，符号反了】\n",
    "gi[4,4]*σi[4,:,:]"
   ]
  },
  {
   "cell_type": "markdown",
   "metadata": {},
   "source": [
    "$g_{\\mu\\upsilon}\\sigma^\\mu_{\\ \\ AA'}\\sigma^\\upsilon_{\\ \\ BB'}-\\epsilon_{AB}\\epsilon_{A'B'}=0$"
   ]
  },
  {
   "cell_type": "code",
   "execution_count": 61,
   "metadata": {},
   "outputs": [
    {
     "data": {
      "text/plain": [
       "2×2×2×2 Array{Sym,4}:\n",
       "[:, :, 1, 1] =\n",
       " 0  0\n",
       " 0  0\n",
       "\n",
       "[:, :, 2, 1] =\n",
       "                     0  2.22044604925031e-16\n",
       " -2.22044604925031e-16                     0\n",
       "\n",
       "[:, :, 1, 2] =\n",
       "                    0  -2.22044604925031e-16\n",
       " 2.22044604925031e-16                      0\n",
       "\n",
       "[:, :, 2, 2] =\n",
       " 0  0\n",
       " 0  0"
      ]
     },
     "execution_count": 61,
     "metadata": {},
     "output_type": "execute_result"
    }
   ],
   "source": [
    "[sum(sum(g[μ,υ]*σi[μ,A,A1]*σi[υ,B,B1] for μ in 1:4) for υ in 1:4)-ϵ[A,B]*ϵ1[A1,B1]\n",
    "        for A in 1:2, B in 1:2, A1 in 1:2, B1 in 1:2]"
   ]
  },
  {
   "cell_type": "markdown",
   "metadata": {},
   "source": [
    "$\\sigma_\\mu^{\\ \\ AA'}\\sigma^\\upsilon_{\\ \\ AA'}-\\delta^\\upsilon_\\mu$"
   ]
  },
  {
   "cell_type": "code",
   "execution_count": 62,
   "metadata": {},
   "outputs": [
    {
     "data": {
      "text/latex": [
       "\\[\\left[ \\begin{array}{rrrr}2.22044604925031 \\cdot 10^{-16}&0&0&0\\\\0&2.22044604925031 \\cdot 10^{-16}&0&0\\\\0&0&2.22044604925031 \\cdot 10^{-16}&0\\\\0&0&0&2.22044604925031 \\cdot 10^{-16}\\end{array}\\right]\\]"
      ],
      "text/plain": [
       "4×4 Array{Sym,2}:\n",
       " 2.22044604925031e-16                     0  …                     0\n",
       "                    0  2.22044604925031e-16                        0\n",
       "                    0                     0                        0\n",
       "                    0                     0     2.22044604925031e-16"
      ]
     },
     "execution_count": 62,
     "metadata": {},
     "output_type": "execute_result"
    }
   ],
   "source": [
    "[sum(sum(σ[μ,A,A1]*σi[υ,A,A1] for A in 1:2) for A1 in 1:2)-δ[υ,μ] for μ in 1:4, υ in 1:4]"
   ]
  },
  {
   "cell_type": "markdown",
   "metadata": {},
   "source": [
    "$\\sigma_\\mu^{\\ \\ AA'}\\sigma^\\mu_{\\ \\ BB'}-\\delta^A_B\\delta^{A'}_{B'}$"
   ]
  },
  {
   "cell_type": "code",
   "execution_count": 63,
   "metadata": {},
   "outputs": [
    {
     "data": {
      "text/plain": [
       "2×2×2×2 Array{Sym,4}:\n",
       "[:, :, 1, 1] =\n",
       " 2.22044604925031e-16                     0\n",
       "                    0  2.22044604925031e-16\n",
       "\n",
       "[:, :, 2, 1] =\n",
       " 0  0\n",
       " 0  0\n",
       "\n",
       "[:, :, 1, 2] =\n",
       " 0  0\n",
       " 0  0\n",
       "\n",
       "[:, :, 2, 2] =\n",
       " 2.22044604925031e-16                     0\n",
       "                    0  2.22044604925031e-16"
      ]
     },
     "execution_count": 63,
     "metadata": {},
     "output_type": "execute_result"
    }
   ],
   "source": [
    "[sum(σ[μ,A,A1]*σi[μ,B,B1] for μ in 1:4)-δ[A,B]*δ[A1,B1] for A in 1:2, B in 1:2, A1 in 1:2, B1 in 1:2]"
   ]
  },
  {
   "cell_type": "code",
   "execution_count": null,
   "metadata": {},
   "outputs": [],
   "source": []
  }
 ],
 "metadata": {
  "kernelspec": {
   "display_name": "Julia 1.3.0",
   "language": "julia",
   "name": "julia-1.3"
  },
  "language_info": {
   "file_extension": ".jl",
   "mimetype": "application/julia",
   "name": "julia",
   "version": "1.3.0"
  }
 },
 "nbformat": 4,
 "nbformat_minor": 2
}
