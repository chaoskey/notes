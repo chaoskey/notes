{
 "cells": [
  {
   "cell_type": "code",
   "execution_count": 1,
   "metadata": {},
   "outputs": [],
   "source": [
    "using SymPy\n",
    "using LinearAlgebra"
   ]
  },
  {
   "cell_type": "code",
   "execution_count": 2,
   "metadata": {},
   "outputs": [],
   "source": [
    "δ = sympy.eye(2); \n",
    "ϵ = sympy.Matrix([0 1; -1 0]);"
   ]
  },
  {
   "cell_type": "markdown",
   "metadata": {},
   "source": [
    "$$ϵ_{AB}\\ ϵ_C^{\\ \\ D}+ϵ_{BC}\\ ϵ_A^{\\ \\ D}+ϵ_{CA}\\ ϵ_B^{\\ \\ D}=0$$"
   ]
  },
  {
   "cell_type": "code",
   "execution_count": 3,
   "metadata": {},
   "outputs": [
    {
     "data": {
      "text/plain": [
       "2×2×2×2 Array{Sym,4}:\n",
       "[:, :, 1, 1] =\n",
       " 0  0\n",
       " 0  0\n",
       "\n",
       "[:, :, 2, 1] =\n",
       " 0  0\n",
       " 0  0\n",
       "\n",
       "[:, :, 1, 2] =\n",
       " 0  0\n",
       " 0  0\n",
       "\n",
       "[:, :, 2, 2] =\n",
       " 0  0\n",
       " 0  0"
      ]
     },
     "execution_count": 3,
     "metadata": {},
     "output_type": "execute_result"
    }
   ],
   "source": [
    "[ϵ[A,B]*δ[C,D]+ϵ[B,C]*δ[A,D]+ϵ[C,A]*δ[B,D] for A in 1:2, B in 1:2, C in 1:2, D in 1:2]"
   ]
  },
  {
   "cell_type": "code",
   "execution_count": 4,
   "metadata": {},
   "outputs": [
    {
     "data": {
      "text/plain": [
       "2×2×2×2 Array{Sym,4}:\n",
       "[:, :, 1, 1] =\n",
       " 0  0\n",
       " 0  0\n",
       "\n",
       "[:, :, 2, 1] =\n",
       " 0  0\n",
       " 0  0\n",
       "\n",
       "[:, :, 1, 2] =\n",
       " 0  0\n",
       " 0  0\n",
       "\n",
       "[:, :, 2, 2] =\n",
       " 0  0\n",
       " 0  0"
      ]
     },
     "execution_count": 4,
     "metadata": {},
     "output_type": "execute_result"
    }
   ],
   "source": [
    "[ϵ[A,B]*ϵ[C,D]+ϵ[B,C]*ϵ[A,D]+ϵ[C,A]*ϵ[B,D] for A in 1:2, B in 1:2, C in 1:2, D in 1:2]"
   ]
  },
  {
   "cell_type": "code",
   "execution_count": null,
   "metadata": {},
   "outputs": [],
   "source": []
  }
 ],
 "metadata": {
  "kernelspec": {
   "display_name": "Julia 1.3.0",
   "language": "julia",
   "name": "julia-1.3"
  },
  "language_info": {
   "file_extension": ".jl",
   "mimetype": "application/julia",
   "name": "julia",
   "version": "1.3.0"
  }
 },
 "nbformat": 4,
 "nbformat_minor": 2
}
