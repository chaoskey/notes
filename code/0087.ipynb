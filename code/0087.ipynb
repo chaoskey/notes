{
 "cells": [
  {
   "cell_type": "code",
   "execution_count": 54,
   "metadata": {},
   "outputs": [],
   "source": [
    "using SymPy\n",
    "using LinearAlgebra\n",
    "\n",
    "@vars t x y z  real=true\n",
    "\n",
    "X=[t,x,y,z];\n",
    "\n",
    "#  Levi-Civita记号\n",
    "ε= [ Sym((length(Set([i,j,k]))==3)*       #  存在重复指标，取0\n",
    "    (-1)^(sum([i,j,k][σ]>[i,j,k][ρ]   \n",
    "            for σ in 1:3,ρ in  1:3  if σ<ρ) % 2)) # 计算逆序数。偶数取1，奇数取-1\n",
    "    for  i in 1:3, j in 1:3, k in 1:3 ] ;\n",
    "\n",
    "# 单位矩阵\n",
    "δ = sympy.diag(1,1,1);\n",
    "\n",
    "#  四维evi-Civita记号\n",
    "ε4= [ Sym((length(Set([i,j,k,l]))==4)*       #  存在重复指标，取0\n",
    "    (-1)^(sum([i,j,k,l][σ]>[i,j,k,l][ρ]   \n",
    "            for σ in 1:4,ρ in  1:4  if σ<ρ) % 2)) # 计算逆序数。偶数取1，奇数取-1\n",
    "    for  i in 1:4, j in 1:4, k in 1:4,l in 1:4 ] ;\n",
    "\n",
    "# 闵氏度规\n",
    "η = sympy.diag(-1,1,1,1);"
   ]
  },
  {
   "cell_type": "code",
   "execution_count": 55,
   "metadata": {},
   "outputs": [
    {
     "data": {
      "text/latex": [
       "\\[\\left[ \\begin{array}{rrrr}i&0&0&0\\\\0&i&0&0\\\\0&0&i&0\\\\0&0&0&i\\end{array}\\right]\\]"
      ],
      "text/plain": [
       "4×4 Array{Sym,2}:\n",
       " I  0  0  0\n",
       " 0  I  0  0\n",
       " 0  0  I  0\n",
       " 0  0  0  I"
      ]
     },
     "execution_count": 55,
     "metadata": {},
     "output_type": "execute_result"
    }
   ],
   "source": [
    "P=IM*sympy.diag(1,1,1,1)"
   ]
  },
  {
   "cell_type": "code",
   "execution_count": 56,
   "metadata": {},
   "outputs": [
    {
     "data": {
      "text/latex": [
       "\\[\\left[ \\begin{array}{rrrr}0&0&i z&- i y\\\\0&- i z&0&i x\\\\0&i y&- i x&0\\end{array}\\right]\\]"
      ],
      "text/plain": [
       "3×4 Array{Sym,2}:\n",
       " 0     0   I*z  -I*y\n",
       " 0  -I*z     0   I*x\n",
       " 0   I*y  -I*x     0"
      ]
     },
     "execution_count": 56,
     "metadata": {},
     "output_type": "execute_result"
    }
   ],
   "source": [
    "J=IM*[0 0 z -y; 0 -z 0 x; 0 y -x 0]"
   ]
  },
  {
   "cell_type": "code",
   "execution_count": 57,
   "metadata": {},
   "outputs": [
    {
     "data": {
      "text/latex": [
       "\\[\\left[ \\begin{array}{rrrr}i x&i t&0&0\\\\i y&0&i t&0\\\\i z&0&0&i t\\end{array}\\right]\\]"
      ],
      "text/plain": [
       "3×4 Array{Sym,2}:\n",
       " I*x  I*t    0    0\n",
       " I*y    0  I*t    0\n",
       " I*z    0    0  I*t"
      ]
     },
     "execution_count": 57,
     "metadata": {},
     "output_type": "execute_result"
    }
   ],
   "source": [
    "K=IM*[x t 0 0; y 0 t 0;  z 0 0 t]"
   ]
  },
  {
   "cell_type": "code",
   "execution_count": 58,
   "metadata": {},
   "outputs": [
    {
     "data": {
      "text/plain": [
       "4×4 Array{Array{Sym,1},2}:\n",
       " [0, 0, 0, 0]        [I*x, I*t, 0, 0]   [I*y, 0, I*t, 0]   [I*z, 0, 0, I*t]\n",
       " [-I*x, -I*t, 0, 0]  [0, 0, 0, 0]       [0, I*y, -I*x, 0]  [0, I*z, 0, -I*x]\n",
       " [-I*y, 0, -I*t, 0]  [0, -I*y, I*x, 0]  [0, 0, 0, 0]       [0, 0, I*z, -I*y]\n",
       " [-I*z, 0, 0, -I*t]  [0, -I*z, 0, I*x]  [0, 0, -I*z, I*y]  [0, 0, 0, 0]"
      ]
     },
     "execution_count": 58,
     "metadata": {},
     "output_type": "execute_result"
    }
   ],
   "source": [
    "JJ = [Sym(0) for μ in 1:4,  υ in 1:4 ,ρ in 1:4];\n",
    "JJ[2:4,2:4,1:4]=[sum(ε[k,i,j]*J[k,l] for k in 1:3) for i in 1:3,j in 1:3, l in 1:4];\n",
    "JJ[1,2:4,1:4] = K;\n",
    "JJ[2:4,1,1:4] = -K;\n",
    "[[JJ[μ,υ,σ] for σ in 1:4] for μ in 1:4, υ in 1:4]"
   ]
  },
  {
   "cell_type": "code",
   "execution_count": 59,
   "metadata": {},
   "outputs": [
    {
     "data": {
      "text/latex": [
       "\\[\\left[ \\begin{array}{rrrr}0&0&i z&- i y\\\\0&- i z&0&i x\\\\0&i y&- i x&0\\end{array}\\right]\\]"
      ],
      "text/plain": [
       "3×4 Array{Sym,2}:\n",
       " 0     0   I*z  -I*y\n",
       " 0  -I*z     0   I*x\n",
       " 0   I*y  -I*x     0"
      ]
     },
     "execution_count": 59,
     "metadata": {},
     "output_type": "execute_result"
    }
   ],
   "source": [
    "J=(1//2)*[sum(ε[i,j,k]*JJ[j+1,k+1,l] for j in 1:3, k in 1:3) for i in 1:3, l in 1:4 ]"
   ]
  },
  {
   "cell_type": "code",
   "execution_count": 61,
   "metadata": {},
   "outputs": [
    {
     "data": {
      "text/latex": [
       "\\[\\left[ \\begin{array}{rrrr}i x&i t&0&0\\\\i y&0&i t&0\\\\i z&0&0&i t\\end{array}\\right]\\]"
      ],
      "text/plain": [
       "3×4 Array{Sym,2}:\n",
       " I*x  I*t    0    0\n",
       " I*y    0  I*t    0\n",
       " I*z    0    0  I*t"
      ]
     },
     "execution_count": 61,
     "metadata": {},
     "output_type": "execute_result"
    }
   ],
   "source": [
    "K=JJ[1,2:4,1:4]"
   ]
  },
  {
   "cell_type": "code",
   "execution_count": 62,
   "metadata": {},
   "outputs": [
    {
     "data": {
      "text/plain": [
       "true"
      ]
     },
     "execution_count": 62,
     "metadata": {},
     "output_type": "execute_result"
    }
   ],
   "source": [
    "[sum(P[μ,ρ]*diff(P[υ,σ],X[ρ])-P[υ,ρ]*diff(P[μ,σ],X[ρ])  for ρ in 1:4) \n",
    "        for μ in 1:4, υ in 1:4, σ in 1:4] |> \n",
    "(expr->all(e->(e==0),expr))  # 全零判断"
   ]
  },
  {
   "cell_type": "code",
   "execution_count": 63,
   "metadata": {},
   "outputs": [
    {
     "data": {
      "text/plain": [
       "true"
      ]
     },
     "execution_count": 63,
     "metadata": {},
     "output_type": "execute_result"
    }
   ],
   "source": [
    "[sum(J[μ,ρ]*diff(J[υ,σ],X[ρ])-J[υ,ρ]*diff(J[μ,σ],X[ρ])  for ρ in 1:4) -\n",
    "    IM* sum(ε[μ,υ,ρ]*J[ρ,σ] for ρ in 1:3)\n",
    "        for μ in 1:3, υ in 1:3, σ in 1:4] |> \n",
    "(expr->all(e->(e==0),expr))  # 全零判断"
   ]
  },
  {
   "cell_type": "code",
   "execution_count": 64,
   "metadata": {},
   "outputs": [
    {
     "data": {
      "text/plain": [
       "true"
      ]
     },
     "execution_count": 64,
     "metadata": {},
     "output_type": "execute_result"
    }
   ],
   "source": [
    "[sum(K[μ,ρ]*diff(K[υ,σ],X[ρ])-K[υ,ρ]*diff(K[μ,σ],X[ρ])  for ρ in 1:4) +\n",
    "    IM* sum(ε[μ,υ,ρ]*J[ρ,σ] for ρ in 1:3)\n",
    "        for μ in 1:3, υ in 1:3, σ in 1:4] |> \n",
    "(expr->all(e->(e==0),expr))  # 全零判断"
   ]
  },
  {
   "cell_type": "code",
   "execution_count": 65,
   "metadata": {},
   "outputs": [
    {
     "data": {
      "text/plain": [
       "true"
      ]
     },
     "execution_count": 65,
     "metadata": {},
     "output_type": "execute_result"
    }
   ],
   "source": [
    "[sum(P[μ,ρ]*diff(J[υ,σ],X[ρ])-J[υ,ρ]*diff(P[μ,σ],X[ρ])  for ρ in 1:4)\n",
    "        for μ in 1:1, υ in 1:3, σ in 1:4] |> \n",
    "(expr->all(e->(e==0),expr))  # 全零判断"
   ]
  },
  {
   "cell_type": "code",
   "execution_count": 66,
   "metadata": {},
   "outputs": [
    {
     "data": {
      "text/plain": [
       "true"
      ]
     },
     "execution_count": 66,
     "metadata": {},
     "output_type": "execute_result"
    }
   ],
   "source": [
    "[sum(P[μ+1,ρ]*diff(J[υ,σ],X[ρ])-J[υ,ρ]*diff(P[μ+1,σ],X[ρ])  for ρ in 1:4) -\n",
    "    IM* sum(ε[μ,υ,ρ]*P[ρ+1,σ] for ρ in 1:3)\n",
    "        for μ in 1:3, υ in 1:3, σ in 1:4] |> \n",
    "(expr->all(e->(e==0),expr))  # 全零判断"
   ]
  },
  {
   "cell_type": "code",
   "execution_count": 67,
   "metadata": {},
   "outputs": [
    {
     "data": {
      "text/plain": [
       "true"
      ]
     },
     "execution_count": 67,
     "metadata": {},
     "output_type": "execute_result"
    }
   ],
   "source": [
    "[sum(P[μ,ρ]*diff(K[υ,σ],X[ρ])-K[υ,ρ]*diff(P[μ,σ],X[ρ])  for ρ in 1:4) -\n",
    "    IM*P[υ+1,σ]\n",
    "        for μ in 1:1, υ in 1:3, σ in 1:4] |> \n",
    "(expr->all(e->(e==0),expr))  # 全零判断"
   ]
  },
  {
   "cell_type": "code",
   "execution_count": 68,
   "metadata": {},
   "outputs": [
    {
     "data": {
      "text/plain": [
       "true"
      ]
     },
     "execution_count": 68,
     "metadata": {},
     "output_type": "execute_result"
    }
   ],
   "source": [
    "[sum(P[μ+1,ρ]*diff(K[υ,σ],X[ρ])-K[υ,ρ]*diff(P[μ+1,σ],X[ρ])  for ρ in 1:4) -\n",
    "    IM* δ[μ,υ]* P[1,σ]\n",
    "        for μ in 1:3, υ in 1:3, σ in 1:4] |> \n",
    "(expr->all(e->(e==0),expr))  # 全零判断"
   ]
  },
  {
   "cell_type": "code",
   "execution_count": 69,
   "metadata": {},
   "outputs": [
    {
     "data": {
      "text/plain": [
       "true"
      ]
     },
     "execution_count": 69,
     "metadata": {},
     "output_type": "execute_result"
    }
   ],
   "source": [
    "[sum(J[μ,ρ]*diff(K[υ,σ],X[ρ])-K[υ,ρ]*diff(J[μ,σ],X[ρ])  for ρ in 1:4) -\n",
    "    IM* sum(ε[μ,υ,ρ]*K[ρ,σ] for ρ in 1:3)\n",
    "        for μ in 1:3, υ in 1:3, σ in 1:4] |> \n",
    "(expr->all(e->(e==0),expr))  # 全零判断"
   ]
  },
  {
   "cell_type": "code",
   "execution_count": 75,
   "metadata": {},
   "outputs": [
    {
     "data": {
      "text/plain": [
       "true"
      ]
     },
     "execution_count": 75,
     "metadata": {},
     "output_type": "execute_result"
    }
   ],
   "source": [
    "[sum(JJ[μ,υ,τ]*diff(P[ρ,σ],X[τ])-P[ρ,τ]*diff(JJ[μ,υ,σ],X[τ])  for τ in 1:4) -\n",
    "    IM*(η[μ,ρ]*P[υ,σ]-η[υ,ρ]*P[μ,σ])\n",
    "        for μ in 1:4, υ in 1:4, ρ in 1:4, σ in 1:4] |> \n",
    "(expr->all(e->(e==0),expr))  # 全零判断"
   ]
  },
  {
   "cell_type": "code",
   "execution_count": 79,
   "metadata": {},
   "outputs": [
    {
     "data": {
      "text/plain": [
       "true"
      ]
     },
     "execution_count": 79,
     "metadata": {},
     "output_type": "execute_result"
    }
   ],
   "source": [
    "[sum(JJ[μ,υ,ι]*diff(JJ[ρ,σ,τ],X[ι])-JJ[ρ,σ,ι]*diff(JJ[μ,υ,τ],X[ι])  for ι in 1:4) -\n",
    "    IM*(η[μ,ρ]*JJ[υ,σ,τ]-η[μ,σ]*JJ[υ,ρ,τ]-η[υ,ρ]*JJ[μ,σ,τ]+η[υ,σ]*JJ[μ,ρ,τ])\n",
    "        for μ in 1:4, υ in 1:4, ρ in 1:4, σ in 1:4, τ in 1:4] |> \n",
    "(expr->all(e->(e==0),expr))  # 全零判断"
   ]
  },
  {
   "cell_type": "code",
   "execution_count": 81,
   "metadata": {},
   "outputs": [
    {
     "data": {
      "text/latex": [
       "\\[ \\left[ \\begin{array}{r}0\\\\0\\\\0\\\\0\\end{array} \\right] \\]"
      ],
      "text/plain": [
       "4-element Array{Sym,1}:\n",
       " 0\n",
       " 0\n",
       " 0\n",
       " 0"
      ]
     },
     "execution_count": 81,
     "metadata": {},
     "output_type": "execute_result"
    }
   ],
   "source": [
    "[sum(η[μ,υ]*P[μ,σ]*diff(P[υ,ρ],X[σ]) for μ in 1:4, υ in 1:4, σ in 1:4) for ρ in 1:4]"
   ]
  },
  {
   "cell_type": "code",
   "execution_count": null,
   "metadata": {},
   "outputs": [],
   "source": []
  }
 ],
 "metadata": {
  "kernelspec": {
   "display_name": "Julia 1.4.0-rc1",
   "language": "julia",
   "name": "julia-1.4"
  },
  "language_info": {
   "file_extension": ".jl",
   "mimetype": "application/julia",
   "name": "julia",
   "version": "1.4.0"
  }
 },
 "nbformat": 4,
 "nbformat_minor": 2
}
