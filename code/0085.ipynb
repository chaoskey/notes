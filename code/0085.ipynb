{
 "cells": [
  {
   "cell_type": "code",
   "execution_count": 1,
   "metadata": {},
   "outputs": [],
   "source": [
    "using SymPy\n",
    "using LinearAlgebra"
   ]
  },
  {
   "cell_type": "code",
   "execution_count": 2,
   "metadata": {},
   "outputs": [],
   "source": [
    "#  Levi-Civita记号\n",
    "ε= [ Sym((length(Set([i,j,k]))==3)*       #  存在重复指标，取0\n",
    "    (-1)^(sum([i,j,k][σ]>[i,j,k][ρ]   \n",
    "            for σ in 1:3,ρ in  1:3  if σ<ρ) % 2)) # 计算逆序数。偶数取1，奇数取-1\n",
    "    for  i in 1:3, j in 1:3, k in 1:3 ] ;\n",
    "\n",
    "# 单位矩阵\n",
    "δ = sympy.diag(1,1,1);"
   ]
  },
  {
   "cell_type": "code",
   "execution_count": 3,
   "metadata": {},
   "outputs": [],
   "source": [
    "# 庞加莱群李代数的结构常数\n",
    "C=[Sym(0) for i in 1:10 , j in 1:10 , k in 1:10];\n",
    "C[5:7,5:7,5:7]=IM*ε;\n",
    "C[8:10,8:10,5:7]=-IM*ε;\n",
    "C[2:4,5:7,2:4]=IM*ε;   C[5:7,2:4,2:4]=-IM*ε;\n",
    "C[1,8:10,2:4]=IM*δ;    C[8:10,1,2:4]=-IM*δ;\n",
    "C[2:4,8:10,1]=IM*δ;    C[8:10,2:4,1]=-IM*δ;\n",
    "C[5:7,8:10,8:10]=IM*ε; C[8:10,5:7,8:10]=-IM*ε;"
   ]
  },
  {
   "cell_type": "code",
   "execution_count": 4,
   "metadata": {},
   "outputs": [],
   "source": [
    "# 庞加莱群的十个参数\n",
    "@vars p0 p1 p2 p3 j1 j2 j3 k1 k2 k3 real=true\n",
    "a=[p0,p1,p2,p3,j1,j2,j3,k1,k2,k3];\n",
    "\n",
    "# 庞加莱群的十个无穷小生成元\n",
    "@vars P0 P1 P2 P3 J1 J2 J3 K1 K2 K3 real=true\n",
    "E=[P0,P1,P2,P3,J1,J2,J3,K1,K2,K3];"
   ]
  },
  {
   "cell_type": "code",
   "execution_count": 5,
   "metadata": {},
   "outputs": [
    {
     "data": {
      "text/latex": [
       "\\[\\left[ \\begin{array}{rrrrrrrrrr}0&0&0&0&0&0&0&i P_{1}&i P_{2}&i P_{3}\\\\0&0&0&0&0&i P_{3}&- i P_{2}&i P_{0}&0&0\\\\0&0&0&0&- i P_{3}&0&i P_{1}&0&i P_{0}&0\\\\0&0&0&0&i P_{2}&- i P_{1}&0&0&0&i P_{0}\\\\0&0&- i P_{3}&i P_{2}&0&i J_{3}&- i J_{2}&0&i K_{3}&- i K_{2}\\\\0&i P_{3}&0&- i P_{1}&- i J_{3}&0&i J_{1}&- i K_{3}&0&i K_{1}\\\\0&- i P_{2}&i P_{1}&0&i J_{2}&- i J_{1}&0&i K_{2}&- i K_{1}&0\\\\- i P_{1}&- i P_{0}&0&0&0&- i K_{3}&i K_{2}&0&- i J_{3}&i J_{2}\\\\- i P_{2}&0&- i P_{0}&0&i K_{3}&0&- i K_{1}&i J_{3}&0&- i J_{1}\\\\- i P_{3}&0&0&- i P_{0}&- i K_{2}&i K_{1}&0&- i J_{2}&i J_{1}&0\\end{array}\\right]\\]"
      ],
      "text/plain": [
       "10×10 Array{Sym,2}:\n",
       "     0      0      0      0      0      0      0   I*P1   I*P2   I*P3\n",
       "     0      0      0      0      0   I*P3  -I*P2   I*P0      0      0\n",
       "     0      0      0      0  -I*P3      0   I*P1      0   I*P0      0\n",
       "     0      0      0      0   I*P2  -I*P1      0      0      0   I*P0\n",
       "     0      0  -I*P3   I*P2      0   I*J3  -I*J2      0   I*K3  -I*K2\n",
       "     0   I*P3      0  -I*P1  -I*J3      0   I*J1  -I*K3      0   I*K1\n",
       "     0  -I*P2   I*P1      0   I*J2  -I*J1      0   I*K2  -I*K1      0\n",
       " -I*P1  -I*P0      0      0      0  -I*K3   I*K2      0  -I*J3   I*J2\n",
       " -I*P2      0  -I*P0      0   I*K3      0  -I*K1   I*J3      0  -I*J1\n",
       " -I*P3      0      0  -I*P0  -I*K2   I*K1      0  -I*J2   I*J1      0"
      ]
     },
     "execution_count": 5,
     "metadata": {},
     "output_type": "execute_result"
    }
   ],
   "source": [
    "[sum(C[i,j,k]*E[k] for k in 1:10) for i in 1:10,j in 1:10]"
   ]
  },
  {
   "cell_type": "code",
   "execution_count": 6,
   "metadata": {},
   "outputs": [],
   "source": [
    "CA = [sum(C[i,j,k]*a[k] for k in 1:10) for i in 1:10,j in 1:10];"
   ]
  },
  {
   "cell_type": "code",
   "execution_count": 8,
   "metadata": {},
   "outputs": [
    {
     "data": {
      "text/plain": [
       "8"
      ]
     },
     "execution_count": 8,
     "metadata": {},
     "output_type": "execute_result"
    }
   ],
   "source": [
    "CA.rank()"
   ]
  },
  {
   "cell_type": "code",
   "execution_count": 10,
   "metadata": {},
   "outputs": [
    {
     "data": {
      "text/latex": [
       "\\[\\left[ \\begin{array}{rrrrrrrrrr}0&0&0&0&0&0&0&0&0&0\\\\0&0&0&0&0&0&0&0&0&0\\\\0&0&0&0&0&0&0&0&0&0\\\\0&0&0&0&0&0&0&0&0&0\\\\0&0&0&0&6&0&0&0&0&0\\\\0&0&0&0&0&6&0&0&0&0\\\\0&0&0&0&0&0&6&0&0&0\\\\0&0&0&0&0&0&0&2&0&0\\\\0&0&0&0&0&0&0&0&2&0\\\\0&0&0&0&0&0&0&0&0&2\\end{array}\\right]\\]"
      ],
      "text/plain": [
       "10×10 Array{Sym,2}:\n",
       " 0  0  0  0  0  0  0  0  0  0\n",
       " 0  0  0  0  0  0  0  0  0  0\n",
       " 0  0  0  0  0  0  0  0  0  0\n",
       " 0  0  0  0  0  0  0  0  0  0\n",
       " 0  0  0  0  6  0  0  0  0  0\n",
       " 0  0  0  0  0  6  0  0  0  0\n",
       " 0  0  0  0  0  0  6  0  0  0\n",
       " 0  0  0  0  0  0  0  2  0  0\n",
       " 0  0  0  0  0  0  0  0  2  0\n",
       " 0  0  0  0  0  0  0  0  0  2"
      ]
     },
     "execution_count": 10,
     "metadata": {},
     "output_type": "execute_result"
    }
   ],
   "source": [
    "# Killing型\n",
    "κ=[sum(C[μ,σ,ρ]*C[υ,ρ,σ] for σ in 1:10, ρ in 1:10) for μ in 1:10 ,υ in 1:10]"
   ]
  },
  {
   "cell_type": "code",
   "execution_count": 11,
   "metadata": {},
   "outputs": [
    {
     "data": {
      "text/latex": [
       "\\begin{equation*}0\\end{equation*}"
      ],
      "text/plain": [
       "0"
      ]
     },
     "execution_count": 11,
     "metadata": {},
     "output_type": "execute_result"
    }
   ],
   "source": [
    "κ.det()"
   ]
  },
  {
   "cell_type": "code",
   "execution_count": 19,
   "metadata": {},
   "outputs": [
    {
     "data": {
      "text/latex": [
       "\\[\\left[ \\begin{array}{rrrrrrrrrr}0&0&0&0&0&0&0&0&0&0\\\\0&0&0&0&0&0&0&0&0&0\\\\0&0&0&0&0&0&0&0&0&0\\\\0&0&0&0&0&0&0&0&0&0\\\\0&0&0&0&\\frac{1}{6}&0&0&0&0&0\\\\0&0&0&0&0&\\frac{1}{6}&0&0&0&0\\\\0&0&0&0&0&0&\\frac{1}{6}&0&0&0\\\\0&0&0&0&0&0&0&\\frac{1}{2}&0&0\\\\0&0&0&0&0&0&0&0&\\frac{1}{2}&0\\\\0&0&0&0&0&0&0&0&0&\\frac{1}{2}\\end{array}\\right]\\]"
      ],
      "text/plain": [
       "10×10 Array{Sym,2}:\n",
       " 0  0  0  0    0    0    0    0    0    0\n",
       " 0  0  0  0    0    0    0    0    0    0\n",
       " 0  0  0  0    0    0    0    0    0    0\n",
       " 0  0  0  0    0    0    0    0    0    0\n",
       " 0  0  0  0  1/6    0    0    0    0    0\n",
       " 0  0  0  0    0  1/6    0    0    0    0\n",
       " 0  0  0  0    0    0  1/6    0    0    0\n",
       " 0  0  0  0    0    0    0  1/2    0    0\n",
       " 0  0  0  0    0    0    0    0  1/2    0\n",
       " 0  0  0  0    0    0    0    0    0  1/2"
      ]
     },
     "execution_count": 19,
     "metadata": {},
     "output_type": "execute_result"
    }
   ],
   "source": [
    "iκ = pinv(κ)"
   ]
  },
  {
   "cell_type": "code",
   "execution_count": null,
   "metadata": {},
   "outputs": [],
   "source": []
  }
 ],
 "metadata": {
  "kernelspec": {
   "display_name": "Julia 1.3.0",
   "language": "julia",
   "name": "julia-1.3"
  },
  "language_info": {
   "file_extension": ".jl",
   "mimetype": "application/julia",
   "name": "julia",
   "version": "1.3.0"
  }
 },
 "nbformat": 4,
 "nbformat_minor": 2
}
